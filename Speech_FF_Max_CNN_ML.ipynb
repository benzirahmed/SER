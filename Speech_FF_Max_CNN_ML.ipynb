{
  "nbformat": 4,
  "nbformat_minor": 0,
  "metadata": {
    "accelerator": "GPU",
    "colab": {
      "name": "Speech-FF-Max-CNN-ML",
      "provenance": [],
      "collapsed_sections": [],
      "include_colab_link": true
    },
    "kernelspec": {
      "display_name": "Python 3",
      "name": "python3"
    }
  },
  "cells": [
    {
      "cell_type": "markdown",
      "metadata": {
        "id": "view-in-github",
        "colab_type": "text"
      },
      "source": [
        "<a href=\"https://colab.research.google.com/github/benzirahmed/SER-6506/blob/main/Speech_FF_Max_CNN_ML.ipynb\" target=\"_parent\"><img src=\"https://colab.research.google.com/assets/colab-badge.svg\" alt=\"Open In Colab\"/></a>"
      ]
    },
    {
      "cell_type": "code",
      "metadata": {
        "colab": {
          "base_uri": "https://localhost:8080/"
        },
        "id": "aBqh96KbQO43",
        "outputId": "5517a667-b223-4bf0-92e4-c8844988dc01"
      },
      "source": [
        "#To check how much RAM is available: See the last line.\n",
        "# memory footprint support libraries/code\n",
        "!ln -sf /opt/bin/nvidia-smi /usr/bin/nvidia-smi\n",
        "!pip install gputil\n",
        "!pip install psutil\n",
        "!pip install humanize\n",
        "import psutil\n",
        "import humanize\n",
        "import os\n",
        "import GPUtil as GPU\n",
        "GPUs = GPU.getGPUs()\n",
        "# XXX: only one GPU on Colab and isn’t guaranteed\n",
        "gpu = GPUs[0]\n",
        "def printm():\n",
        " process = psutil.Process(os.getpid())\n",
        " print(\"Gen RAM Free: \" + humanize.naturalsize( psutil.virtual_memory().available ), \" | Proc size: \" + humanize.naturalsize( process.memory_info().rss))\n",
        " print(\"GPU RAM Free: {0:.0f}MB | Used: {1:.0f}MB | Util {2:3.0f}% | Total {3:.0f}MB\".format(gpu.memoryFree, gpu.memoryUsed, gpu.memoryUtil*100, gpu.memoryTotal))\n",
        "printm() "
      ],
      "execution_count": null,
      "outputs": [
        {
          "output_type": "stream",
          "text": [
            "Collecting gputil\n",
            "  Downloading https://files.pythonhosted.org/packages/ed/0e/5c61eedde9f6c87713e89d794f01e378cfd9565847d4576fa627d758c554/GPUtil-1.4.0.tar.gz\n",
            "Building wheels for collected packages: gputil\n",
            "  Building wheel for gputil (setup.py) ... \u001b[?25l\u001b[?25hdone\n",
            "  Created wheel for gputil: filename=GPUtil-1.4.0-cp36-none-any.whl size=7411 sha256=ac7cfaabc773e00bc714b3cc227f1e889aed3e476273529dec698c4dad77896d\n",
            "  Stored in directory: /root/.cache/pip/wheels/3d/77/07/80562de4bb0786e5ea186911a2c831fdd0018bda69beab71fd\n",
            "Successfully built gputil\n",
            "Installing collected packages: gputil\n",
            "Successfully installed gputil-1.4.0\n",
            "Requirement already satisfied: psutil in /usr/local/lib/python3.6/dist-packages (5.4.8)\n",
            "Requirement already satisfied: humanize in /usr/local/lib/python3.6/dist-packages (0.5.1)\n",
            "Gen RAM Free: 12.8 GB  | Proc size: 111.6 MB\n",
            "GPU RAM Free: 15079MB | Used: 0MB | Util   0% | Total 15079MB\n"
          ],
          "name": "stdout"
        }
      ]
    },
    {
      "cell_type": "code",
      "metadata": {
        "colab": {
          "base_uri": "https://localhost:8080/",
          "height": 35
        },
        "id": "JJtJ9YFnPrtU",
        "outputId": "94a404e3-4319-4866-e81c-5ff45dad33d8"
      },
      "source": [
        "import tensorflow as tf\n",
        "tf.test.gpu_device_name() # To check that GPU is used."
      ],
      "execution_count": null,
      "outputs": [
        {
          "output_type": "execute_result",
          "data": {
            "application/vnd.google.colaboratory.intrinsic+json": {
              "type": "string"
            },
            "text/plain": [
              "'/device:GPU:0'"
            ]
          },
          "metadata": {
            "tags": []
          },
          "execution_count": 2
        }
      ]
    },
    {
      "cell_type": "code",
      "metadata": {
        "id": "ZHiJj93hQjiS"
      },
      "source": [
        "!kill -9 -1 # To clear RAM"
      ],
      "execution_count": null,
      "outputs": []
    },
    {
      "cell_type": "code",
      "metadata": {
        "id": "oinQztwcJyA9"
      },
      "source": [
        "# Import libraries \n",
        "import librosa\n",
        "import librosa.display\n",
        "import numpy as np\n",
        "import tensorflow as tf\n",
        "import matplotlib.pyplot as plt\n",
        "from matplotlib.pyplot import specgram\n",
        "import pandas as pd\n",
        "import glob \n",
        "import IPython.display as ipd  # To play sound in the notebook\n",
        "import os\n",
        "import sys\n",
        "import warnings\n",
        "\n",
        "# Keras\n",
        "import keras\n",
        "from keras import regularizers\n",
        "from keras.preprocessing import sequence\n",
        "from keras.preprocessing.text import Tokenizer\n",
        "from keras.preprocessing.sequence import pad_sequences\n",
        "from keras.models import Sequential, Model, model_from_json\n",
        "from keras.layers import Dense, Embedding, LSTM\n",
        "from keras.layers import Input, Flatten, Dropout, Activation, BatchNormalization\n",
        "from keras.layers import Conv2D, MaxPool2D, AveragePooling1D, Bidirectional\n",
        "from keras.utils import np_utils, to_categorical\n",
        "from keras.callbacks import ModelCheckpoint\n",
        "\n",
        "# sklearn\n",
        "from sklearn.metrics import accuracy_score, classification_report, confusion_matrix\n",
        "from sklearn.model_selection import train_test_split\n",
        "from sklearn.preprocessing import LabelEncoder\n",
        "\n",
        "# Other\n",
        "import json\n",
        "import seaborn as sns\n",
        "import pickle\n",
        "\n",
        "# ignore warnings \n",
        "if not sys.warnoptions:\n",
        "    warnings.simplefilter(\"ignore\")\n",
        "warnings.filterwarnings(\"ignore\", category=DeprecationWarning)\n"
      ],
      "execution_count": null,
      "outputs": []
    },
    {
      "cell_type": "code",
      "metadata": {
        "colab": {
          "base_uri": "https://localhost:8080/"
        },
        "id": "4vYiHeKnKqdm",
        "outputId": "e5070313-c593-4ec1-c2e2-f70bb80144e3"
      },
      "source": [
        "# Need to mount google drive to access files there\n",
        "from google.colab import drive # to use docs at google drive, you need to mount your google drive\n",
        "drive.mount('/gdrive/') # your files are at /gdrive/'My Drive'/\n"
      ],
      "execution_count": null,
      "outputs": [
        {
          "output_type": "stream",
          "text": [
            "Mounted at /gdrive/\n"
          ],
          "name": "stdout"
        }
      ]
    },
    {
      "cell_type": "code",
      "metadata": {
        "id": "jrYsjgbjZzeT"
      },
      "source": [
        "#COLAB_DRIVE_LOC = \"/gdrive/My Drive/Colab Notebooks/\"\n",
        "COLAB_DRIVE_LOC = \"/gdrive/My Drive/BenColab/Colab Notebooks/\"\n",
        "from datetime import datetime\n",
        "def printCurrentTime():\n",
        "  print(\"Current Time =\", datetime.now().strftime(\"%H:%M:%S\"))"
      ],
      "execution_count": null,
      "outputs": []
    },
    {
      "cell_type": "code",
      "metadata": {
        "id": "MCo5nMGBe30j"
      },
      "source": [
        "!ls \"/gdrive/My Drive/BenColab/Colab Notebooks\""
      ],
      "execution_count": null,
      "outputs": []
    },
    {
      "cell_type": "code",
      "metadata": {
        "colab": {
          "base_uri": "https://localhost:8080/"
        },
        "id": "R0h_4ebwVUW8",
        "outputId": "aee0b7b1-a813-4c65-e3f4-291cef6a7b22"
      },
      "source": [
        "# !!!!!!! Go directly to cell that loads the data from .csv file. Skip all the following cells!!!!!!!!!\n",
        "%ls"
      ],
      "execution_count": null,
      "outputs": [
        {
          "output_type": "stream",
          "text": [
            "\u001b[0m\u001b[01;34msample_data\u001b[0m/\n"
          ],
          "name": "stdout"
        }
      ]
    },
    {
      "cell_type": "code",
      "metadata": {
        "id": "bJ5p0dMgyCA3"
      },
      "source": [
        "RAV = COLAB_DRIVE_LOC+\"dataSets/ravdess/Audio_Speech_Actors_01-24/\""
      ],
      "execution_count": null,
      "outputs": []
    },
    {
      "cell_type": "code",
      "metadata": {
        "colab": {
          "base_uri": "https://localhost:8080/"
        },
        "id": "LeuZ_UkO98i_",
        "outputId": "bb8d5253-d9ad-40e0-dcfd-0a9434eaed0e"
      },
      "source": [
        "# RAVDESS: COMMON\n",
        "dir_list = os.listdir(RAV)\n",
        "dir_list.sort()\n",
        "\n",
        "emotion = []\n",
        "gender = []\n",
        "path = []\n",
        "for i in dir_list:\n",
        "    fname = os.listdir(RAV + i)\n",
        "    for f in fname:\n",
        "        part = f.split('.')[0].split('-')\n",
        "        temp = int(part[2])\n",
        "        #if temp >= 2:\n",
        "         # temp = temp - 1\n",
        "        emotion.append(temp)       \n",
        "        path.append(RAV + i + '/' + f)\n",
        "        \n",
        "RAV_df = pd.DataFrame(emotion)\n",
        "\n",
        "RAV_df.columns = ['labels']\n",
        "\n",
        "RAV_df = pd.concat([RAV_df,pd.DataFrame(path, columns = ['path'])],axis=1)\n",
        "#RAV_df = RAV_df.drop(['gender', 'emotion'], axis=1)\n",
        "printCurrentTime()\n",
        "RAV_df.labels.value_counts()"
      ],
      "execution_count": null,
      "outputs": [
        {
          "output_type": "stream",
          "text": [
            "Current Time = 09:33:35\n"
          ],
          "name": "stdout"
        },
        {
          "output_type": "execute_result",
          "data": {
            "text/plain": [
              "8    192\n",
              "7    192\n",
              "6    192\n",
              "5    192\n",
              "4    192\n",
              "3    192\n",
              "2    192\n",
              "1     96\n",
              "Name: labels, dtype: int64"
            ]
          },
          "metadata": {
            "tags": []
          },
          "execution_count": 8
        }
      ]
    },
    {
      "cell_type": "code",
      "metadata": {
        "colab": {
          "base_uri": "https://localhost:8080/",
          "height": 195
        },
        "id": "l6bdEkft9e2z",
        "outputId": "cc1b8251-b2ea-408f-a012-613fe3f9e633"
      },
      "source": [
        "# Lets pick up the meta-data that we got from our first part of the Kernel\n",
        "ref = pd.concat([RAV_df], axis = 0)\n",
        "#ref = pd.read_csv(\"/content/Data_path.csv\")\n",
        "ref.head()"
      ],
      "execution_count": null,
      "outputs": [
        {
          "output_type": "execute_result",
          "data": {
            "text/html": [
              "<div>\n",
              "<style scoped>\n",
              "    .dataframe tbody tr th:only-of-type {\n",
              "        vertical-align: middle;\n",
              "    }\n",
              "\n",
              "    .dataframe tbody tr th {\n",
              "        vertical-align: top;\n",
              "    }\n",
              "\n",
              "    .dataframe thead th {\n",
              "        text-align: right;\n",
              "    }\n",
              "</style>\n",
              "<table border=\"1\" class=\"dataframe\">\n",
              "  <thead>\n",
              "    <tr style=\"text-align: right;\">\n",
              "      <th></th>\n",
              "      <th>labels</th>\n",
              "      <th>path</th>\n",
              "    </tr>\n",
              "  </thead>\n",
              "  <tbody>\n",
              "    <tr>\n",
              "      <th>0</th>\n",
              "      <td>1</td>\n",
              "      <td>/gdrive/My Drive/BenColab/Colab Notebooks/data...</td>\n",
              "    </tr>\n",
              "    <tr>\n",
              "      <th>1</th>\n",
              "      <td>1</td>\n",
              "      <td>/gdrive/My Drive/BenColab/Colab Notebooks/data...</td>\n",
              "    </tr>\n",
              "    <tr>\n",
              "      <th>2</th>\n",
              "      <td>1</td>\n",
              "      <td>/gdrive/My Drive/BenColab/Colab Notebooks/data...</td>\n",
              "    </tr>\n",
              "    <tr>\n",
              "      <th>3</th>\n",
              "      <td>2</td>\n",
              "      <td>/gdrive/My Drive/BenColab/Colab Notebooks/data...</td>\n",
              "    </tr>\n",
              "    <tr>\n",
              "      <th>4</th>\n",
              "      <td>2</td>\n",
              "      <td>/gdrive/My Drive/BenColab/Colab Notebooks/data...</td>\n",
              "    </tr>\n",
              "  </tbody>\n",
              "</table>\n",
              "</div>"
            ],
            "text/plain": [
              "   labels                                               path\n",
              "0       1  /gdrive/My Drive/BenColab/Colab Notebooks/data...\n",
              "1       1  /gdrive/My Drive/BenColab/Colab Notebooks/data...\n",
              "2       1  /gdrive/My Drive/BenColab/Colab Notebooks/data...\n",
              "3       2  /gdrive/My Drive/BenColab/Colab Notebooks/data...\n",
              "4       2  /gdrive/My Drive/BenColab/Colab Notebooks/data..."
            ]
          },
          "metadata": {
            "tags": []
          },
          "execution_count": 11
        }
      ]
    },
    {
      "cell_type": "code",
      "metadata": {
        "id": "5bqIleanr6-K"
      },
      "source": [
        "# This function stacks Different Features\n",
        "def extract_feature(path, sr, **kwargs):\n",
        "    \"\"\"\n",
        "    Extract feature from audio file `file_name`\n",
        "        Features supported:\n",
        "            - MFCC (mfcc)\n",
        "            - Chroma (chroma)\n",
        "            - MEL Spectrogram Frequency (mel)\n",
        "            - Contrast (contrast)\n",
        "            - Tonnetz (tonnetz)\n",
        "        e.g:\n",
        "        `features = extract_feature(path, mel=True, mfcc=True)`\n",
        "    \"\"\"\n",
        "    mfcc = kwargs.get(\"mfcc\")\n",
        "    chroma = kwargs.get(\"chroma\")\n",
        "    mel = kwargs.get(\"mel\")\n",
        "    contrast = kwargs.get(\"contrast\")\n",
        "    tonnetz = kwargs.get(\"tonnetz\")\n",
        "    \n",
        "    X, sample_rate = librosa.load(path, res_type='kaiser_fast',duration=2.5,sr=sr,offset=0.5)  \n",
        "    #female_mfcc = librosa.feature.mfcc(y=X, sr=sample_rate, n_mfcc=13)   \n",
        "   \n",
        "    if chroma or contrast:\n",
        "        stft = np.abs(librosa.stft(X))\n",
        "    result = np.array([])\n",
        "    if mfcc:\n",
        "        mfccs = np.max(librosa.feature.mfcc(y=X, sr=sample_rate, n_mfcc=40), axis=0)\n",
        "        #print(mfccs.shape)\n",
        "        #result = np.column_stack((result, mfccs))\n",
        "        result = mfccs\n",
        "    if chroma:\n",
        "        chroma = np.max(librosa.feature.chroma_stft(S=stft, sr=sample_rate),axis=0)\n",
        "        #print(chroma.shape)\n",
        "        result = np.column_stack((result, chroma))\n",
        "    if mel:\n",
        "        mel = np.max(librosa.feature.melspectrogram(X, sr=sample_rate),axis=0)\n",
        "        # Convert to log scale (dB). We'll use the peak power (max) as reference.\n",
        "        log_mel = librosa.power_to_db(mel, ref=np.max) \n",
        "        #print(mel.shape)\n",
        "        result = np.column_stack((result, log_mel))\n",
        "    if contrast:\n",
        "        contrast = np.max(librosa.feature.spectral_contrast(S=stft, sr=sample_rate),axis=0)\n",
        "        #print(contrast.shape)\n",
        "        result = np.column_stack((result, contrast))\n",
        "    if tonnetz:\n",
        "        tonnetz = np.max(librosa.feature.tonnetz(y=librosa.effects.harmonic(X), sr=sample_rate),axis=0)\n",
        "        #print(tonnetz.shape)\n",
        "        result = np.column_stack((result, tonnetz))\n",
        "    return result"
      ],
      "execution_count": null,
      "outputs": []
    },
    {
      "cell_type": "code",
      "metadata": {
        "colab": {
          "base_uri": "https://localhost:8080/"
        },
        "id": "N0bPcDNIQrNS",
        "outputId": "e205f160-9a4b-4419-af52-02bf2c386f22"
      },
      "source": [
        "# Run only to check the size of all the features\n",
        "# Note this takes a couple of minutes (~10 mins) as we're iterating over 4 datasets \n",
        "\n",
        "df = pd.DataFrame(columns=['feature'])\n",
        "\n",
        "# Loop: feature extraction over the entire dataset\n",
        "sizes = []\n",
        "sr = 22050\n",
        "for index, path in enumerate(ref.path):\n",
        "    features = extract_feature(path, sr, mfcc=True, chroma=True, mel=True, contrast=True, tonnetz=True) \n",
        "        \n",
        "    # Adding the size to the list\n",
        "    sizes.append(features.shape)    \n",
        "\n",
        "# Checking if all sizes are the same\n",
        "print(f'The sizes of all the mel spectrograms in our data set are equal: {len(set(sizes)) == 1}')\n",
        "\n",
        "# Checking the max size\n",
        "print(f'The maximum size is: {max(sizes)}')"
      ],
      "execution_count": null,
      "outputs": [
        {
          "output_type": "stream",
          "text": [
            "The sizes of all the mel spectrograms in our data set are equal: False\n",
            "The maximum size is: (108, 5)\n"
          ],
          "name": "stdout"
        }
      ]
    },
    {
      "cell_type": "code",
      "metadata": {
        "id": "uiIAuIUHhiNr"
      },
      "source": [
        "# Reads data, do mel spectrum: COMMON\n",
        "# Note this takes a couple of minutes (~10 mins) as we're iterating over 4 datasets \n",
        "\n",
        "df = pd.DataFrame(columns=['feature'])\n",
        "\n",
        "# Loop: feature extraction over the entire dataset\n",
        "specs = []\n",
        "counter=0\n",
        "sr = 22050\n",
        "for index, path in enumerate(ref.path):\n",
        "    features = extract_feature(path, sr, mfcc=True, chroma=True, mel=True, contrast=True, tonnetz=True) \n",
        "        \n",
        "    # Adjusting the size to be 108 x 5\n",
        "    if features.shape[0] != 108:\n",
        "        features.resize(108,5, refcheck=False)\n",
        "\n",
        "    # Adding the 2-D mel spectrogram to the list\n",
        "    specs.append(features)  \n",
        "    \n",
        "    df.loc[counter] = [features]\n",
        "    counter=counter+1    \n",
        "\n",
        "# Converting the list or arrays to an array\n",
        "X = np.array(specs)  \n",
        "#newarray = np.dstack(specs)   "
      ],
      "execution_count": null,
      "outputs": []
    },
    {
      "cell_type": "code",
      "metadata": {
        "id": "d3FtYgS5IdRu"
      },
      "source": [
        "# Preprocess: : COMMON\n",
        "# replace NA with 0\n",
        "df = df.fillna(0)\n",
        "\n",
        "#features = df.drop(['path','labels','source'],axis=1)\n",
        "#n = features.shape[0]\n",
        "labels = ref.labels.to_list()\n",
        "\n",
        "# Split between train and test \n",
        "X_train, X_test, y_train, y_test = train_test_split(X\n",
        "                                                    , labels\n",
        "                                                    , test_size=0.25\n",
        "                                                    , shuffle=True\n",
        "                                                    , random_state=42\n",
        "                                                   )\n",
        "# Lets do data normalization \n",
        "max_data = np.max(X_train)\n",
        "min_data = np.min(X_train)\n",
        "\n",
        "X_train = (X_train-min_data)/(max_data-min_data+1e-6)\n",
        "X_train =  X_train-0.5\n",
        "\n",
        "max_data = np.max(X_test)\n",
        "min_data = np.min(X_test)\n",
        "X_test = (X_test-min_data)/(max_data-min_data+1e-6)\n",
        "X_test =  X_test-0.5"
      ],
      "execution_count": null,
      "outputs": []
    },
    {
      "cell_type": "code",
      "metadata": {
        "id": "M9J7ScRpW1jw"
      },
      "source": [
        "# Lets do few preparation steps to get it into the correct format for Keras : COMMON\n",
        "\n",
        "X_train = np.array(X_train)\n",
        "y_train = np.array(y_train)\n",
        "X_test = np.array(X_test)\n",
        "y_test = np.array(y_test)\n",
        "\n",
        "# one hot encode the target(Check whether emotions are already numeric): \n",
        "lb = LabelEncoder()\n",
        "y_train = np_utils.to_categorical(lb.fit_transform(y_train))\n",
        "y_test = np_utils.to_categorical(lb.fit_transform(y_test))\n",
        "\n",
        "# Pickel the lb object for future use \n",
        "#filename = COLAB_DRIVE_LOC+'dataSets/ravdess/labels'\n",
        "#outfile = open(filename,'wb')\n",
        "#pickle.dump(lb,outfile)\n",
        "#outfile.close()\n",
        "\n",
        "# We need to convert to 3D as we use CNN\n",
        "X_train_cnn = np.expand_dims(X_train, axis=3)\n",
        "X_test_cnn = np.expand_dims(X_test, axis=3)"
      ],
      "execution_count": null,
      "outputs": []
    },
    {
      "cell_type": "code",
      "metadata": {
        "colab": {
          "base_uri": "https://localhost:8080/"
        },
        "id": "ixZObT-wHvSD",
        "outputId": "4534fbf4-0292-4097-90bd-3ae729c3b667"
      },
      "source": [
        "print(X_train.shape)\n",
        "print(y_train.shape)\n",
        "print(X_train_cnn.shape)"
      ],
      "execution_count": null,
      "outputs": [
        {
          "output_type": "stream",
          "text": [
            "(1080, 108, 5)\n",
            "(1080, 8)\n",
            "(1080, 108, 5, 1)\n"
          ],
          "name": "stdout"
        }
      ]
    },
    {
      "cell_type": "code",
      "metadata": {
        "id": "Bnk2LH8YVsGv"
      },
      "source": [
        "from keras.layers import Layer\n",
        "import keras.backend as K\n",
        "\n",
        "class Attention(Layer):\n",
        "    def __init__(self,**kwargs):\n",
        "        super(Attention,self).__init__(**kwargs)\n",
        "\n",
        "    def build(self,input_shape):\n",
        "        self.W = self.add_weight(name=\"att_weight\", shape=(input_shape[-1],1), initializer=\"normal\")\n",
        "        self.b = self.add_weight(name=\"att_bias\", shape=(input_shape[1],1), initializer=\"zeros\")        \n",
        "        super(Attention, self).build(input_shape)\n",
        "\n",
        "    def call(self,x):\n",
        "        et=K.squeeze(K.tanh( K.dot(x,self.W)+self.b ), axis=-1)\n",
        "        at=K.softmax(et)\n",
        "        at=K.expand_dims(at,axis=-1)\n",
        "        output=x*at\n",
        "        return K.sum(output,axis=1)\n",
        "\n",
        "    def compute_output_shape(self,input_shape):\n",
        "        return (input_shape[0],input_shape[-1])\n",
        "\n",
        "    def get_config(self):\n",
        "        return super(Attention,self).get_config()"
      ],
      "execution_count": null,
      "outputs": []
    },
    {
      "cell_type": "code",
      "metadata": {
        "id": "j48JmZcyaDBE"
      },
      "source": [
        "def ReshapeLayer(x):    \n",
        "    shape = x.shape    \n",
        "    # 1st possibility: H,W*channel\n",
        "    reshape = Reshape((shape[1],shape[2]*shape[3]))(x)\n",
        "    \n",
        "    # 2nd possibility: W,H*channel\n",
        "    # transpose = Permute((2,1,3))(x)\n",
        "    # reshape = Reshape((shape[1],shape[2]*shape[3]))(transpose)\n",
        "    \n",
        "    return reshape"
      ],
      "execution_count": null,
      "outputs": []
    },
    {
      "cell_type": "code",
      "metadata": {
        "id": "VUkvzIOqswzq"
      },
      "source": [
        "# CNN Model Base\n",
        "from keras.layers import Bidirectional, ConvLSTM2D, Reshape, Lambda \n",
        "lstm_node = 10\n",
        "model = Sequential()\n",
        "model.add(Conv2D(input_shape=(108,5,1),filters=64,kernel_size=(3,3),padding=\"same\", activation=\"relu\"))\n",
        "model.add(Dropout(.2))\n",
        "model.add(Conv2D(filters=256, kernel_size=(3,3), padding=\"same\", activation=\"relu\"))\n",
        "model.add(Dropout(.2))\n",
        "\n",
        "model.add(Flatten())\n",
        "model.add(Dense(units=256,activation=\"relu\"))\n",
        "model.add(Dense(units=8, activation=\"softmax\"))"
      ],
      "execution_count": null,
      "outputs": []
    },
    {
      "cell_type": "code",
      "metadata": {
        "id": "vUDhUI7aDS0g"
      },
      "source": [
        "# CNN Model - draft\n",
        "from keras.layers import Bidirectional, ConvLSTM2D, Reshape, Lambda \n",
        "lstm_node = 10\n",
        "model = Sequential()\n",
        "model.add(Conv2D(input_shape=(108,5,1),filters=128,kernel_size=(3,3),padding=\"same\", activation=\"relu\"))\n",
        "model.add(Conv2D(filters=256, kernel_size=(3,3), padding=\"same\", activation=\"relu\"))\n",
        "#model.add(Conv2D(filters=256, kernel_size=(3,3), padding=\"same\", activation=\"relu\"))\n",
        "model.add(Dropout(.2))\n",
        "#model.add(Conv2D(filters=128, kernel_size=(3,3), padding=\"same\", activation=\"relu\"))\n",
        "model.add(Conv2D(filters=128, kernel_size=(3,3), padding=\"same\", activation=\"relu\"))\n",
        "\n",
        "model.add(Flatten())\n",
        "model.add(Dense(units=256,activation=\"relu\"))\n",
        "model.add(Dense(units=8, activation=\"softmax\"))"
      ],
      "execution_count": null,
      "outputs": []
    },
    {
      "cell_type": "code",
      "metadata": {
        "colab": {
          "base_uri": "https://localhost:8080/"
        },
        "id": "Co3aCpU6YG5q",
        "outputId": "e86f74bd-3c56-4cbc-99d1-5e04f764825b"
      },
      "source": [
        "# Optimizer\n",
        "# opt = keras.optimizers.SGD(lr=0.0001, momentum=0.0, decay=0.0, nesterov=False)\n",
        "opt = keras.optimizers.Adam(lr=0.0001)\n",
        "#opt = keras.optimizers.rmsprop(lr=0.00001, decay=1e-6)\n",
        "\n",
        "# Compile model\n",
        "model.compile(loss='categorical_crossentropy', optimizer=opt, metrics=['accuracy'])\n",
        "\n",
        "#COLAB_DRIVE_LOC = \"/gdrive/My Drive/Colab Notebooks/\"\n",
        "SAVED_MODELS = COLAB_DRIVE_LOC + \"dataSets/ravdess/\"\n",
        "\n",
        "from keras.callbacks import ModelCheckpoint, EarlyStopping\n",
        "checkpoint = ModelCheckpoint(SAVED_MODELS+\"vgg16_1.h5\", monitor='val_acc', verbose=1, save_best_only=True, save_weights_only=False, mode='auto', period=1)\n",
        "early_stopping = EarlyStopping(monitor='val_acc', min_delta=0, patience=10, verbose=1, mode='auto')\n",
        "\n",
        "#model_history = model.fit_generator(steps_per_epoch=100, generator=traindata, validation_data= testdata, validation_steps=10, epochs=100, callbacks=[checkpoint, early])\n",
        "#model.fit(X_train, y_train, batch_size=64, epochs=100, validation_data=(X_test, y_test), callbacks=[early_stopping])\n",
        "model_history = model.fit(X_train_cnn, y_train, batch_size=16, epochs=100, validation_data=(X_test_cnn, y_test), callbacks=[checkpoint, early_stopping])"
      ],
      "execution_count": null,
      "outputs": [
        {
          "output_type": "stream",
          "text": [
            "WARNING:tensorflow:`period` argument is deprecated. Please use `save_freq` to specify the frequency in number of batches seen.\n",
            "Epoch 1/100\n",
            " 1/68 [..............................] - ETA: 0s - loss: 2.0758 - accuracy: 0.0625WARNING:tensorflow:Callbacks method `on_train_batch_end` is slow compared to the batch time (batch time: 0.0050s vs `on_train_batch_end` time: 0.0084s). Check your callbacks.\n",
            "68/68 [==============================] - ETA: 0s - loss: 2.0663 - accuracy: 0.1852WARNING:tensorflow:Can save best model only with val_acc available, skipping.\n",
            "WARNING:tensorflow:Early stopping conditioned on metric `val_acc` which is not available. Available metrics are: loss,accuracy,val_loss,val_accuracy\n",
            "68/68 [==============================] - 1s 18ms/step - loss: 2.0663 - accuracy: 0.1852 - val_loss: 2.0248 - val_accuracy: 0.2250\n",
            "Epoch 2/100\n",
            "67/68 [============================>.] - ETA: 0s - loss: 1.9633 - accuracy: 0.2239WARNING:tensorflow:Can save best model only with val_acc available, skipping.\n",
            "WARNING:tensorflow:Early stopping conditioned on metric `val_acc` which is not available. Available metrics are: loss,accuracy,val_loss,val_accuracy\n",
            "68/68 [==============================] - 1s 14ms/step - loss: 1.9616 - accuracy: 0.2269 - val_loss: 1.9011 - val_accuracy: 0.2667\n",
            "Epoch 3/100\n",
            "66/68 [============================>.] - ETA: 0s - loss: 1.8656 - accuracy: 0.2756WARNING:tensorflow:Can save best model only with val_acc available, skipping.\n",
            "WARNING:tensorflow:Early stopping conditioned on metric `val_acc` which is not available. Available metrics are: loss,accuracy,val_loss,val_accuracy\n",
            "68/68 [==============================] - 1s 14ms/step - loss: 1.8636 - accuracy: 0.2759 - val_loss: 1.8091 - val_accuracy: 0.3500\n",
            "Epoch 4/100\n",
            "65/68 [===========================>..] - ETA: 0s - loss: 1.7963 - accuracy: 0.2913WARNING:tensorflow:Can save best model only with val_acc available, skipping.\n",
            "WARNING:tensorflow:Early stopping conditioned on metric `val_acc` which is not available. Available metrics are: loss,accuracy,val_loss,val_accuracy\n",
            "68/68 [==============================] - 1s 14ms/step - loss: 1.8012 - accuracy: 0.2870 - val_loss: 1.8099 - val_accuracy: 0.3306\n",
            "Epoch 5/100\n",
            "66/68 [============================>.] - ETA: 0s - loss: 1.7661 - accuracy: 0.3182WARNING:tensorflow:Can save best model only with val_acc available, skipping.\n",
            "WARNING:tensorflow:Early stopping conditioned on metric `val_acc` which is not available. Available metrics are: loss,accuracy,val_loss,val_accuracy\n",
            "68/68 [==============================] - 1s 14ms/step - loss: 1.7648 - accuracy: 0.3194 - val_loss: 1.7620 - val_accuracy: 0.3139\n",
            "Epoch 6/100\n",
            "65/68 [===========================>..] - ETA: 0s - loss: 1.7333 - accuracy: 0.3192WARNING:tensorflow:Can save best model only with val_acc available, skipping.\n",
            "WARNING:tensorflow:Early stopping conditioned on metric `val_acc` which is not available. Available metrics are: loss,accuracy,val_loss,val_accuracy\n",
            "68/68 [==============================] - 1s 14ms/step - loss: 1.7339 - accuracy: 0.3204 - val_loss: 1.7592 - val_accuracy: 0.3250\n",
            "Epoch 7/100\n",
            "65/68 [===========================>..] - ETA: 0s - loss: 1.7286 - accuracy: 0.3260WARNING:tensorflow:Can save best model only with val_acc available, skipping.\n",
            "WARNING:tensorflow:Early stopping conditioned on metric `val_acc` which is not available. Available metrics are: loss,accuracy,val_loss,val_accuracy\n",
            "68/68 [==============================] - 1s 14ms/step - loss: 1.7216 - accuracy: 0.3315 - val_loss: 1.7311 - val_accuracy: 0.3611\n",
            "Epoch 8/100\n",
            "65/68 [===========================>..] - ETA: 0s - loss: 1.6833 - accuracy: 0.3442WARNING:tensorflow:Can save best model only with val_acc available, skipping.\n",
            "WARNING:tensorflow:Early stopping conditioned on metric `val_acc` which is not available. Available metrics are: loss,accuracy,val_loss,val_accuracy\n",
            "68/68 [==============================] - 1s 14ms/step - loss: 1.6824 - accuracy: 0.3472 - val_loss: 1.7258 - val_accuracy: 0.3333\n",
            "Epoch 9/100\n",
            "65/68 [===========================>..] - ETA: 0s - loss: 1.6587 - accuracy: 0.3548WARNING:tensorflow:Can save best model only with val_acc available, skipping.\n",
            "WARNING:tensorflow:Early stopping conditioned on metric `val_acc` which is not available. Available metrics are: loss,accuracy,val_loss,val_accuracy\n",
            "68/68 [==============================] - 1s 14ms/step - loss: 1.6621 - accuracy: 0.3556 - val_loss: 1.7170 - val_accuracy: 0.3389\n",
            "Epoch 10/100\n",
            "64/68 [===========================>..] - ETA: 0s - loss: 1.6382 - accuracy: 0.3477WARNING:tensorflow:Can save best model only with val_acc available, skipping.\n",
            "WARNING:tensorflow:Early stopping conditioned on metric `val_acc` which is not available. Available metrics are: loss,accuracy,val_loss,val_accuracy\n",
            "68/68 [==============================] - 1s 14ms/step - loss: 1.6369 - accuracy: 0.3519 - val_loss: 1.7144 - val_accuracy: 0.3083\n",
            "Epoch 11/100\n",
            "65/68 [===========================>..] - ETA: 0s - loss: 1.6213 - accuracy: 0.3856WARNING:tensorflow:Can save best model only with val_acc available, skipping.\n",
            "WARNING:tensorflow:Early stopping conditioned on metric `val_acc` which is not available. Available metrics are: loss,accuracy,val_loss,val_accuracy\n",
            "68/68 [==============================] - 1s 14ms/step - loss: 1.6228 - accuracy: 0.3824 - val_loss: 1.6922 - val_accuracy: 0.3528\n",
            "Epoch 12/100\n",
            "65/68 [===========================>..] - ETA: 0s - loss: 1.5947 - accuracy: 0.4058WARNING:tensorflow:Can save best model only with val_acc available, skipping.\n",
            "WARNING:tensorflow:Early stopping conditioned on metric `val_acc` which is not available. Available metrics are: loss,accuracy,val_loss,val_accuracy\n",
            "68/68 [==============================] - 1s 14ms/step - loss: 1.5901 - accuracy: 0.4046 - val_loss: 1.7068 - val_accuracy: 0.3222\n",
            "Epoch 13/100\n",
            "65/68 [===========================>..] - ETA: 0s - loss: 1.5569 - accuracy: 0.4038WARNING:tensorflow:Can save best model only with val_acc available, skipping.\n",
            "WARNING:tensorflow:Early stopping conditioned on metric `val_acc` which is not available. Available metrics are: loss,accuracy,val_loss,val_accuracy\n",
            "68/68 [==============================] - 1s 14ms/step - loss: 1.5634 - accuracy: 0.4000 - val_loss: 1.6719 - val_accuracy: 0.3583\n",
            "Epoch 14/100\n",
            "65/68 [===========================>..] - ETA: 0s - loss: 1.5277 - accuracy: 0.4106WARNING:tensorflow:Can save best model only with val_acc available, skipping.\n",
            "WARNING:tensorflow:Early stopping conditioned on metric `val_acc` which is not available. Available metrics are: loss,accuracy,val_loss,val_accuracy\n",
            "68/68 [==============================] - 1s 14ms/step - loss: 1.5330 - accuracy: 0.4065 - val_loss: 1.6784 - val_accuracy: 0.3722\n",
            "Epoch 15/100\n",
            "66/68 [============================>.] - ETA: 0s - loss: 1.5425 - accuracy: 0.4044WARNING:tensorflow:Can save best model only with val_acc available, skipping.\n",
            "WARNING:tensorflow:Early stopping conditioned on metric `val_acc` which is not available. Available metrics are: loss,accuracy,val_loss,val_accuracy\n",
            "68/68 [==============================] - 1s 14ms/step - loss: 1.5391 - accuracy: 0.4065 - val_loss: 1.6838 - val_accuracy: 0.3139\n",
            "Epoch 16/100\n",
            "65/68 [===========================>..] - ETA: 0s - loss: 1.4958 - accuracy: 0.4442WARNING:tensorflow:Can save best model only with val_acc available, skipping.\n",
            "WARNING:tensorflow:Early stopping conditioned on metric `val_acc` which is not available. Available metrics are: loss,accuracy,val_loss,val_accuracy\n",
            "68/68 [==============================] - 1s 14ms/step - loss: 1.4959 - accuracy: 0.4454 - val_loss: 1.6765 - val_accuracy: 0.3528\n",
            "Epoch 17/100\n",
            "65/68 [===========================>..] - ETA: 0s - loss: 1.4686 - accuracy: 0.4558WARNING:tensorflow:Can save best model only with val_acc available, skipping.\n",
            "WARNING:tensorflow:Early stopping conditioned on metric `val_acc` which is not available. Available metrics are: loss,accuracy,val_loss,val_accuracy\n",
            "68/68 [==============================] - 1s 14ms/step - loss: 1.4695 - accuracy: 0.4537 - val_loss: 1.6662 - val_accuracy: 0.3583\n",
            "Epoch 18/100\n",
            "66/68 [============================>.] - ETA: 0s - loss: 1.4493 - accuracy: 0.4564WARNING:tensorflow:Can save best model only with val_acc available, skipping.\n",
            "WARNING:tensorflow:Early stopping conditioned on metric `val_acc` which is not available. Available metrics are: loss,accuracy,val_loss,val_accuracy\n",
            "68/68 [==============================] - 1s 14ms/step - loss: 1.4511 - accuracy: 0.4574 - val_loss: 1.6666 - val_accuracy: 0.3556\n",
            "Epoch 19/100\n",
            "65/68 [===========================>..] - ETA: 0s - loss: 1.4135 - accuracy: 0.4712WARNING:tensorflow:Can save best model only with val_acc available, skipping.\n",
            "WARNING:tensorflow:Early stopping conditioned on metric `val_acc` which is not available. Available metrics are: loss,accuracy,val_loss,val_accuracy\n",
            "68/68 [==============================] - 1s 14ms/step - loss: 1.4205 - accuracy: 0.4657 - val_loss: 1.6819 - val_accuracy: 0.3139\n",
            "Epoch 20/100\n",
            "65/68 [===========================>..] - ETA: 0s - loss: 1.3910 - accuracy: 0.4788WARNING:tensorflow:Can save best model only with val_acc available, skipping.\n",
            "WARNING:tensorflow:Early stopping conditioned on metric `val_acc` which is not available. Available metrics are: loss,accuracy,val_loss,val_accuracy\n",
            "68/68 [==============================] - 1s 14ms/step - loss: 1.3945 - accuracy: 0.4769 - val_loss: 1.6770 - val_accuracy: 0.3722\n",
            "Epoch 21/100\n",
            "65/68 [===========================>..] - ETA: 0s - loss: 1.3880 - accuracy: 0.4740WARNING:tensorflow:Can save best model only with val_acc available, skipping.\n",
            "WARNING:tensorflow:Early stopping conditioned on metric `val_acc` which is not available. Available metrics are: loss,accuracy,val_loss,val_accuracy\n",
            "68/68 [==============================] - 1s 14ms/step - loss: 1.3870 - accuracy: 0.4731 - val_loss: 1.6789 - val_accuracy: 0.3583\n",
            "Epoch 22/100\n",
            "65/68 [===========================>..] - ETA: 0s - loss: 1.3283 - accuracy: 0.5087WARNING:tensorflow:Can save best model only with val_acc available, skipping.\n",
            "WARNING:tensorflow:Early stopping conditioned on metric `val_acc` which is not available. Available metrics are: loss,accuracy,val_loss,val_accuracy\n",
            "68/68 [==============================] - 1s 14ms/step - loss: 1.3348 - accuracy: 0.5065 - val_loss: 1.6761 - val_accuracy: 0.3333\n",
            "Epoch 23/100\n",
            "67/68 [============================>.] - ETA: 0s - loss: 1.3021 - accuracy: 0.5112WARNING:tensorflow:Can save best model only with val_acc available, skipping.\n",
            "WARNING:tensorflow:Early stopping conditioned on metric `val_acc` which is not available. Available metrics are: loss,accuracy,val_loss,val_accuracy\n",
            "68/68 [==============================] - 1s 14ms/step - loss: 1.3006 - accuracy: 0.5111 - val_loss: 1.7237 - val_accuracy: 0.3361\n",
            "Epoch 24/100\n",
            "65/68 [===========================>..] - ETA: 0s - loss: 1.2882 - accuracy: 0.5260WARNING:tensorflow:Can save best model only with val_acc available, skipping.\n",
            "WARNING:tensorflow:Early stopping conditioned on metric `val_acc` which is not available. Available metrics are: loss,accuracy,val_loss,val_accuracy\n",
            "68/68 [==============================] - 1s 14ms/step - loss: 1.2886 - accuracy: 0.5259 - val_loss: 1.6699 - val_accuracy: 0.3611\n",
            "Epoch 25/100\n",
            "65/68 [===========================>..] - ETA: 0s - loss: 1.2635 - accuracy: 0.5394WARNING:tensorflow:Can save best model only with val_acc available, skipping.\n",
            "WARNING:tensorflow:Early stopping conditioned on metric `val_acc` which is not available. Available metrics are: loss,accuracy,val_loss,val_accuracy\n",
            "68/68 [==============================] - 1s 14ms/step - loss: 1.2636 - accuracy: 0.5361 - val_loss: 1.7164 - val_accuracy: 0.3806\n",
            "Epoch 26/100\n",
            "64/68 [===========================>..] - ETA: 0s - loss: 1.2402 - accuracy: 0.5400WARNING:tensorflow:Can save best model only with val_acc available, skipping.\n",
            "WARNING:tensorflow:Early stopping conditioned on metric `val_acc` which is not available. Available metrics are: loss,accuracy,val_loss,val_accuracy\n",
            "68/68 [==============================] - 1s 14ms/step - loss: 1.2345 - accuracy: 0.5444 - val_loss: 1.7411 - val_accuracy: 0.3528\n",
            "Epoch 27/100\n",
            "66/68 [============================>.] - ETA: 0s - loss: 1.2248 - accuracy: 0.5568WARNING:tensorflow:Can save best model only with val_acc available, skipping.\n",
            "WARNING:tensorflow:Early stopping conditioned on metric `val_acc` which is not available. Available metrics are: loss,accuracy,val_loss,val_accuracy\n",
            "68/68 [==============================] - 1s 14ms/step - loss: 1.2273 - accuracy: 0.5574 - val_loss: 1.6541 - val_accuracy: 0.3833\n",
            "Epoch 28/100\n",
            "65/68 [===========================>..] - ETA: 0s - loss: 1.1810 - accuracy: 0.5452WARNING:tensorflow:Can save best model only with val_acc available, skipping.\n",
            "WARNING:tensorflow:Early stopping conditioned on metric `val_acc` which is not available. Available metrics are: loss,accuracy,val_loss,val_accuracy\n",
            "68/68 [==============================] - 1s 14ms/step - loss: 1.1834 - accuracy: 0.5417 - val_loss: 1.6698 - val_accuracy: 0.3278\n",
            "Epoch 29/100\n",
            "65/68 [===========================>..] - ETA: 0s - loss: 1.1580 - accuracy: 0.5788WARNING:tensorflow:Can save best model only with val_acc available, skipping.\n",
            "WARNING:tensorflow:Early stopping conditioned on metric `val_acc` which is not available. Available metrics are: loss,accuracy,val_loss,val_accuracy\n",
            "68/68 [==============================] - 1s 14ms/step - loss: 1.1608 - accuracy: 0.5741 - val_loss: 1.7487 - val_accuracy: 0.3194\n",
            "Epoch 30/100\n",
            "65/68 [===========================>..] - ETA: 0s - loss: 1.1240 - accuracy: 0.5808WARNING:tensorflow:Can save best model only with val_acc available, skipping.\n",
            "WARNING:tensorflow:Early stopping conditioned on metric `val_acc` which is not available. Available metrics are: loss,accuracy,val_loss,val_accuracy\n",
            "68/68 [==============================] - 1s 14ms/step - loss: 1.1205 - accuracy: 0.5824 - val_loss: 1.7822 - val_accuracy: 0.3472\n",
            "Epoch 31/100\n",
            "66/68 [============================>.] - ETA: 0s - loss: 1.0936 - accuracy: 0.6108WARNING:tensorflow:Can save best model only with val_acc available, skipping.\n",
            "WARNING:tensorflow:Early stopping conditioned on metric `val_acc` which is not available. Available metrics are: loss,accuracy,val_loss,val_accuracy\n",
            "68/68 [==============================] - 1s 15ms/step - loss: 1.0921 - accuracy: 0.6111 - val_loss: 1.7107 - val_accuracy: 0.3694\n",
            "Epoch 32/100\n",
            "65/68 [===========================>..] - ETA: 0s - loss: 1.0500 - accuracy: 0.6298WARNING:tensorflow:Can save best model only with val_acc available, skipping.\n",
            "WARNING:tensorflow:Early stopping conditioned on metric `val_acc` which is not available. Available metrics are: loss,accuracy,val_loss,val_accuracy\n",
            "68/68 [==============================] - 1s 14ms/step - loss: 1.0562 - accuracy: 0.6250 - val_loss: 1.7009 - val_accuracy: 0.3694\n",
            "Epoch 33/100\n",
            "65/68 [===========================>..] - ETA: 0s - loss: 1.0181 - accuracy: 0.6356WARNING:tensorflow:Can save best model only with val_acc available, skipping.\n",
            "WARNING:tensorflow:Early stopping conditioned on metric `val_acc` which is not available. Available metrics are: loss,accuracy,val_loss,val_accuracy\n",
            "68/68 [==============================] - 1s 14ms/step - loss: 1.0209 - accuracy: 0.6352 - val_loss: 1.7151 - val_accuracy: 0.3972\n",
            "Epoch 34/100\n",
            "65/68 [===========================>..] - ETA: 0s - loss: 1.0223 - accuracy: 0.6154WARNING:tensorflow:Can save best model only with val_acc available, skipping.\n",
            "WARNING:tensorflow:Early stopping conditioned on metric `val_acc` which is not available. Available metrics are: loss,accuracy,val_loss,val_accuracy\n",
            "68/68 [==============================] - 1s 14ms/step - loss: 1.0214 - accuracy: 0.6167 - val_loss: 1.6868 - val_accuracy: 0.3639\n",
            "Epoch 35/100\n",
            "65/68 [===========================>..] - ETA: 0s - loss: 0.9883 - accuracy: 0.6538WARNING:tensorflow:Can save best model only with val_acc available, skipping.\n",
            "WARNING:tensorflow:Early stopping conditioned on metric `val_acc` which is not available. Available metrics are: loss,accuracy,val_loss,val_accuracy\n",
            "68/68 [==============================] - 1s 15ms/step - loss: 0.9864 - accuracy: 0.6528 - val_loss: 1.7380 - val_accuracy: 0.3389\n",
            "Epoch 36/100\n",
            "66/68 [============================>.] - ETA: 0s - loss: 0.9307 - accuracy: 0.6648WARNING:tensorflow:Can save best model only with val_acc available, skipping.\n",
            "WARNING:tensorflow:Early stopping conditioned on metric `val_acc` which is not available. Available metrics are: loss,accuracy,val_loss,val_accuracy\n",
            "68/68 [==============================] - 1s 14ms/step - loss: 0.9351 - accuracy: 0.6639 - val_loss: 1.7416 - val_accuracy: 0.3639\n",
            "Epoch 37/100\n",
            "66/68 [============================>.] - ETA: 0s - loss: 0.9244 - accuracy: 0.6761WARNING:tensorflow:Can save best model only with val_acc available, skipping.\n",
            "WARNING:tensorflow:Early stopping conditioned on metric `val_acc` which is not available. Available metrics are: loss,accuracy,val_loss,val_accuracy\n",
            "68/68 [==============================] - 1s 14ms/step - loss: 0.9267 - accuracy: 0.6759 - val_loss: 1.7292 - val_accuracy: 0.3639\n",
            "Epoch 38/100\n",
            "65/68 [===========================>..] - ETA: 0s - loss: 0.8791 - accuracy: 0.7000WARNING:tensorflow:Can save best model only with val_acc available, skipping.\n",
            "WARNING:tensorflow:Early stopping conditioned on metric `val_acc` which is not available. Available metrics are: loss,accuracy,val_loss,val_accuracy\n",
            "68/68 [==============================] - 1s 14ms/step - loss: 0.8870 - accuracy: 0.6963 - val_loss: 1.7378 - val_accuracy: 0.3722\n",
            "Epoch 39/100\n",
            "65/68 [===========================>..] - ETA: 0s - loss: 0.8529 - accuracy: 0.7019WARNING:tensorflow:Can save best model only with val_acc available, skipping.\n",
            "WARNING:tensorflow:Early stopping conditioned on metric `val_acc` which is not available. Available metrics are: loss,accuracy,val_loss,val_accuracy\n",
            "68/68 [==============================] - 1s 14ms/step - loss: 0.8562 - accuracy: 0.6991 - val_loss: 1.7793 - val_accuracy: 0.3528\n",
            "Epoch 40/100\n",
            "65/68 [===========================>..] - ETA: 0s - loss: 0.8457 - accuracy: 0.7019WARNING:tensorflow:Can save best model only with val_acc available, skipping.\n",
            "WARNING:tensorflow:Early stopping conditioned on metric `val_acc` which is not available. Available metrics are: loss,accuracy,val_loss,val_accuracy\n",
            "68/68 [==============================] - 1s 14ms/step - loss: 0.8408 - accuracy: 0.7065 - val_loss: 1.7825 - val_accuracy: 0.3389\n",
            "Epoch 41/100\n",
            "66/68 [============================>.] - ETA: 0s - loss: 0.8163 - accuracy: 0.7093WARNING:tensorflow:Can save best model only with val_acc available, skipping.\n",
            "WARNING:tensorflow:Early stopping conditioned on metric `val_acc` which is not available. Available metrics are: loss,accuracy,val_loss,val_accuracy\n",
            "68/68 [==============================] - 1s 14ms/step - loss: 0.8140 - accuracy: 0.7120 - val_loss: 1.7606 - val_accuracy: 0.3750\n",
            "Epoch 42/100\n",
            "65/68 [===========================>..] - ETA: 0s - loss: 0.7988 - accuracy: 0.7212WARNING:tensorflow:Can save best model only with val_acc available, skipping.\n",
            "WARNING:tensorflow:Early stopping conditioned on metric `val_acc` which is not available. Available metrics are: loss,accuracy,val_loss,val_accuracy\n",
            "68/68 [==============================] - 1s 14ms/step - loss: 0.7954 - accuracy: 0.7194 - val_loss: 1.8356 - val_accuracy: 0.3694\n",
            "Epoch 43/100\n",
            "66/68 [============================>.] - ETA: 0s - loss: 0.7385 - accuracy: 0.7528WARNING:tensorflow:Can save best model only with val_acc available, skipping.\n",
            "WARNING:tensorflow:Early stopping conditioned on metric `val_acc` which is not available. Available metrics are: loss,accuracy,val_loss,val_accuracy\n",
            "68/68 [==============================] - 1s 14ms/step - loss: 0.7389 - accuracy: 0.7537 - val_loss: 1.7658 - val_accuracy: 0.3972\n",
            "Epoch 44/100\n",
            "67/68 [============================>.] - ETA: 0s - loss: 0.7396 - accuracy: 0.7472WARNING:tensorflow:Can save best model only with val_acc available, skipping.\n",
            "WARNING:tensorflow:Early stopping conditioned on metric `val_acc` which is not available. Available metrics are: loss,accuracy,val_loss,val_accuracy\n",
            "68/68 [==============================] - 1s 14ms/step - loss: 0.7415 - accuracy: 0.7463 - val_loss: 1.7975 - val_accuracy: 0.3750\n",
            "Epoch 45/100\n",
            "65/68 [===========================>..] - ETA: 0s - loss: 0.7011 - accuracy: 0.7692WARNING:tensorflow:Can save best model only with val_acc available, skipping.\n",
            "WARNING:tensorflow:Early stopping conditioned on metric `val_acc` which is not available. Available metrics are: loss,accuracy,val_loss,val_accuracy\n",
            "68/68 [==============================] - 1s 14ms/step - loss: 0.7058 - accuracy: 0.7648 - val_loss: 1.8401 - val_accuracy: 0.3750\n",
            "Epoch 46/100\n",
            "66/68 [============================>.] - ETA: 0s - loss: 0.6855 - accuracy: 0.7528WARNING:tensorflow:Can save best model only with val_acc available, skipping.\n",
            "WARNING:tensorflow:Early stopping conditioned on metric `val_acc` which is not available. Available metrics are: loss,accuracy,val_loss,val_accuracy\n",
            "68/68 [==============================] - 1s 14ms/step - loss: 0.6893 - accuracy: 0.7509 - val_loss: 1.8857 - val_accuracy: 0.3889\n",
            "Epoch 47/100\n",
            "66/68 [============================>.] - ETA: 0s - loss: 0.6728 - accuracy: 0.7775WARNING:tensorflow:Can save best model only with val_acc available, skipping.\n",
            "WARNING:tensorflow:Early stopping conditioned on metric `val_acc` which is not available. Available metrics are: loss,accuracy,val_loss,val_accuracy\n",
            "68/68 [==============================] - 1s 14ms/step - loss: 0.6709 - accuracy: 0.7759 - val_loss: 1.8038 - val_accuracy: 0.4056\n",
            "Epoch 48/100\n",
            "65/68 [===========================>..] - ETA: 0s - loss: 0.6212 - accuracy: 0.8019WARNING:tensorflow:Can save best model only with val_acc available, skipping.\n",
            "WARNING:tensorflow:Early stopping conditioned on metric `val_acc` which is not available. Available metrics are: loss,accuracy,val_loss,val_accuracy\n",
            "68/68 [==============================] - 1s 14ms/step - loss: 0.6280 - accuracy: 0.7991 - val_loss: 1.9480 - val_accuracy: 0.3639\n",
            "Epoch 49/100\n",
            "65/68 [===========================>..] - ETA: 0s - loss: 0.6374 - accuracy: 0.7798WARNING:tensorflow:Can save best model only with val_acc available, skipping.\n",
            "WARNING:tensorflow:Early stopping conditioned on metric `val_acc` which is not available. Available metrics are: loss,accuracy,val_loss,val_accuracy\n",
            "68/68 [==============================] - 1s 14ms/step - loss: 0.6379 - accuracy: 0.7806 - val_loss: 1.9148 - val_accuracy: 0.4056\n",
            "Epoch 50/100\n",
            "65/68 [===========================>..] - ETA: 0s - loss: 0.5956 - accuracy: 0.8010WARNING:tensorflow:Can save best model only with val_acc available, skipping.\n",
            "WARNING:tensorflow:Early stopping conditioned on metric `val_acc` which is not available. Available metrics are: loss,accuracy,val_loss,val_accuracy\n",
            "68/68 [==============================] - 1s 14ms/step - loss: 0.5977 - accuracy: 0.8009 - val_loss: 1.9446 - val_accuracy: 0.4000\n",
            "Epoch 51/100\n",
            "66/68 [============================>.] - ETA: 0s - loss: 0.5795 - accuracy: 0.8258WARNING:tensorflow:Can save best model only with val_acc available, skipping.\n",
            "WARNING:tensorflow:Early stopping conditioned on metric `val_acc` which is not available. Available metrics are: loss,accuracy,val_loss,val_accuracy\n",
            "68/68 [==============================] - 1s 15ms/step - loss: 0.5783 - accuracy: 0.8259 - val_loss: 1.9483 - val_accuracy: 0.3806\n",
            "Epoch 52/100\n",
            "67/68 [============================>.] - ETA: 0s - loss: 0.5562 - accuracy: 0.8284WARNING:tensorflow:Can save best model only with val_acc available, skipping.\n",
            "WARNING:tensorflow:Early stopping conditioned on metric `val_acc` which is not available. Available metrics are: loss,accuracy,val_loss,val_accuracy\n",
            "68/68 [==============================] - 1s 14ms/step - loss: 0.5579 - accuracy: 0.8269 - val_loss: 1.9542 - val_accuracy: 0.3889\n",
            "Epoch 53/100\n",
            "68/68 [==============================] - ETA: 0s - loss: 0.5328 - accuracy: 0.8306WARNING:tensorflow:Can save best model only with val_acc available, skipping.\n",
            "WARNING:tensorflow:Early stopping conditioned on metric `val_acc` which is not available. Available metrics are: loss,accuracy,val_loss,val_accuracy\n",
            "68/68 [==============================] - 1s 14ms/step - loss: 0.5328 - accuracy: 0.8306 - val_loss: 1.9617 - val_accuracy: 0.3750\n",
            "Epoch 54/100\n",
            "65/68 [===========================>..] - ETA: 0s - loss: 0.4838 - accuracy: 0.8567WARNING:tensorflow:Can save best model only with val_acc available, skipping.\n",
            "WARNING:tensorflow:Early stopping conditioned on metric `val_acc` which is not available. Available metrics are: loss,accuracy,val_loss,val_accuracy\n",
            "68/68 [==============================] - 1s 14ms/step - loss: 0.4871 - accuracy: 0.8546 - val_loss: 1.9878 - val_accuracy: 0.4056\n",
            "Epoch 55/100\n",
            "67/68 [============================>.] - ETA: 0s - loss: 0.5315 - accuracy: 0.8330WARNING:tensorflow:Can save best model only with val_acc available, skipping.\n",
            "WARNING:tensorflow:Early stopping conditioned on metric `val_acc` which is not available. Available metrics are: loss,accuracy,val_loss,val_accuracy\n",
            "68/68 [==============================] - 1s 14ms/step - loss: 0.5278 - accuracy: 0.8343 - val_loss: 2.0951 - val_accuracy: 0.3889\n",
            "Epoch 56/100\n",
            "67/68 [============================>.] - ETA: 0s - loss: 0.4968 - accuracy: 0.8414WARNING:tensorflow:Can save best model only with val_acc available, skipping.\n",
            "WARNING:tensorflow:Early stopping conditioned on metric `val_acc` which is not available. Available metrics are: loss,accuracy,val_loss,val_accuracy\n",
            "68/68 [==============================] - 1s 14ms/step - loss: 0.4969 - accuracy: 0.8407 - val_loss: 1.9941 - val_accuracy: 0.3917\n",
            "Epoch 57/100\n",
            "65/68 [===========================>..] - ETA: 0s - loss: 0.4644 - accuracy: 0.8577WARNING:tensorflow:Can save best model only with val_acc available, skipping.\n",
            "WARNING:tensorflow:Early stopping conditioned on metric `val_acc` which is not available. Available metrics are: loss,accuracy,val_loss,val_accuracy\n",
            "68/68 [==============================] - 1s 14ms/step - loss: 0.4674 - accuracy: 0.8556 - val_loss: 2.0408 - val_accuracy: 0.4028\n",
            "Epoch 58/100\n",
            "65/68 [===========================>..] - ETA: 0s - loss: 0.4659 - accuracy: 0.8538WARNING:tensorflow:Can save best model only with val_acc available, skipping.\n",
            "WARNING:tensorflow:Early stopping conditioned on metric `val_acc` which is not available. Available metrics are: loss,accuracy,val_loss,val_accuracy\n",
            "68/68 [==============================] - 1s 14ms/step - loss: 0.4635 - accuracy: 0.8565 - val_loss: 2.0872 - val_accuracy: 0.3778\n",
            "Epoch 59/100\n",
            "67/68 [============================>.] - ETA: 0s - loss: 0.4168 - accuracy: 0.8703WARNING:tensorflow:Can save best model only with val_acc available, skipping.\n",
            "WARNING:tensorflow:Early stopping conditioned on metric `val_acc` which is not available. Available metrics are: loss,accuracy,val_loss,val_accuracy\n",
            "68/68 [==============================] - 1s 14ms/step - loss: 0.4172 - accuracy: 0.8694 - val_loss: 2.1304 - val_accuracy: 0.3944\n",
            "Epoch 60/100\n",
            "66/68 [============================>.] - ETA: 0s - loss: 0.4119 - accuracy: 0.8750WARNING:tensorflow:Can save best model only with val_acc available, skipping.\n",
            "WARNING:tensorflow:Early stopping conditioned on metric `val_acc` which is not available. Available metrics are: loss,accuracy,val_loss,val_accuracy\n",
            "68/68 [==============================] - 1s 14ms/step - loss: 0.4212 - accuracy: 0.8722 - val_loss: 2.1467 - val_accuracy: 0.3972\n",
            "Epoch 61/100\n",
            "68/68 [==============================] - ETA: 0s - loss: 0.3987 - accuracy: 0.8833WARNING:tensorflow:Can save best model only with val_acc available, skipping.\n",
            "WARNING:tensorflow:Early stopping conditioned on metric `val_acc` which is not available. Available metrics are: loss,accuracy,val_loss,val_accuracy\n",
            "68/68 [==============================] - 1s 15ms/step - loss: 0.3987 - accuracy: 0.8833 - val_loss: 2.1961 - val_accuracy: 0.3944\n",
            "Epoch 62/100\n",
            "66/68 [============================>.] - ETA: 0s - loss: 0.3888 - accuracy: 0.8902WARNING:tensorflow:Can save best model only with val_acc available, skipping.\n",
            "WARNING:tensorflow:Early stopping conditioned on metric `val_acc` which is not available. Available metrics are: loss,accuracy,val_loss,val_accuracy\n",
            "68/68 [==============================] - 1s 14ms/step - loss: 0.3862 - accuracy: 0.8917 - val_loss: 2.2275 - val_accuracy: 0.3944\n",
            "Epoch 63/100\n",
            "66/68 [============================>.] - ETA: 0s - loss: 0.3642 - accuracy: 0.8854WARNING:tensorflow:Can save best model only with val_acc available, skipping.\n",
            "WARNING:tensorflow:Early stopping conditioned on metric `val_acc` which is not available. Available metrics are: loss,accuracy,val_loss,val_accuracy\n",
            "68/68 [==============================] - 1s 14ms/step - loss: 0.3626 - accuracy: 0.8861 - val_loss: 2.2000 - val_accuracy: 0.4056\n",
            "Epoch 64/100\n",
            "65/68 [===========================>..] - ETA: 0s - loss: 0.3971 - accuracy: 0.8731WARNING:tensorflow:Can save best model only with val_acc available, skipping.\n",
            "WARNING:tensorflow:Early stopping conditioned on metric `val_acc` which is not available. Available metrics are: loss,accuracy,val_loss,val_accuracy\n",
            "68/68 [==============================] - 1s 14ms/step - loss: 0.3925 - accuracy: 0.8769 - val_loss: 2.2254 - val_accuracy: 0.3944\n",
            "Epoch 65/100\n",
            "66/68 [============================>.] - ETA: 0s - loss: 0.3505 - accuracy: 0.8939WARNING:tensorflow:Can save best model only with val_acc available, skipping.\n",
            "WARNING:tensorflow:Early stopping conditioned on metric `val_acc` which is not available. Available metrics are: loss,accuracy,val_loss,val_accuracy\n",
            "68/68 [==============================] - 1s 14ms/step - loss: 0.3486 - accuracy: 0.8944 - val_loss: 2.1475 - val_accuracy: 0.4111\n",
            "Epoch 66/100\n",
            "66/68 [============================>.] - ETA: 0s - loss: 0.3219 - accuracy: 0.9119WARNING:tensorflow:Can save best model only with val_acc available, skipping.\n",
            "WARNING:tensorflow:Early stopping conditioned on metric `val_acc` which is not available. Available metrics are: loss,accuracy,val_loss,val_accuracy\n",
            "68/68 [==============================] - 1s 14ms/step - loss: 0.3207 - accuracy: 0.9120 - val_loss: 2.3620 - val_accuracy: 0.3861\n",
            "Epoch 67/100\n",
            "65/68 [===========================>..] - ETA: 0s - loss: 0.3415 - accuracy: 0.8990WARNING:tensorflow:Can save best model only with val_acc available, skipping.\n",
            "WARNING:tensorflow:Early stopping conditioned on metric `val_acc` which is not available. Available metrics are: loss,accuracy,val_loss,val_accuracy\n",
            "68/68 [==============================] - 1s 15ms/step - loss: 0.3373 - accuracy: 0.9000 - val_loss: 2.4281 - val_accuracy: 0.3889\n",
            "Epoch 68/100\n",
            "65/68 [===========================>..] - ETA: 0s - loss: 0.3149 - accuracy: 0.9106WARNING:tensorflow:Can save best model only with val_acc available, skipping.\n",
            "WARNING:tensorflow:Early stopping conditioned on metric `val_acc` which is not available. Available metrics are: loss,accuracy,val_loss,val_accuracy\n",
            "68/68 [==============================] - 1s 14ms/step - loss: 0.3206 - accuracy: 0.9065 - val_loss: 2.3497 - val_accuracy: 0.3917\n",
            "Epoch 69/100\n",
            "67/68 [============================>.] - ETA: 0s - loss: 0.2872 - accuracy: 0.9160WARNING:tensorflow:Can save best model only with val_acc available, skipping.\n",
            "WARNING:tensorflow:Early stopping conditioned on metric `val_acc` which is not available. Available metrics are: loss,accuracy,val_loss,val_accuracy\n",
            "68/68 [==============================] - 1s 14ms/step - loss: 0.2867 - accuracy: 0.9167 - val_loss: 2.2803 - val_accuracy: 0.3861\n",
            "Epoch 70/100\n",
            "65/68 [===========================>..] - ETA: 0s - loss: 0.2684 - accuracy: 0.9394WARNING:tensorflow:Can save best model only with val_acc available, skipping.\n",
            "WARNING:tensorflow:Early stopping conditioned on metric `val_acc` which is not available. Available metrics are: loss,accuracy,val_loss,val_accuracy\n",
            "68/68 [==============================] - 1s 14ms/step - loss: 0.2713 - accuracy: 0.9361 - val_loss: 2.3366 - val_accuracy: 0.4083\n",
            "Epoch 71/100\n",
            "65/68 [===========================>..] - ETA: 0s - loss: 0.2626 - accuracy: 0.9269WARNING:tensorflow:Can save best model only with val_acc available, skipping.\n",
            "WARNING:tensorflow:Early stopping conditioned on metric `val_acc` which is not available. Available metrics are: loss,accuracy,val_loss,val_accuracy\n",
            "68/68 [==============================] - 1s 15ms/step - loss: 0.2701 - accuracy: 0.9204 - val_loss: 2.4859 - val_accuracy: 0.4111\n",
            "Epoch 72/100\n",
            "66/68 [============================>.] - ETA: 0s - loss: 0.2761 - accuracy: 0.9233WARNING:tensorflow:Can save best model only with val_acc available, skipping.\n",
            "WARNING:tensorflow:Early stopping conditioned on metric `val_acc` which is not available. Available metrics are: loss,accuracy,val_loss,val_accuracy\n",
            "68/68 [==============================] - 1s 14ms/step - loss: 0.2755 - accuracy: 0.9241 - val_loss: 2.4926 - val_accuracy: 0.3833\n",
            "Epoch 73/100\n",
            "65/68 [===========================>..] - ETA: 0s - loss: 0.2651 - accuracy: 0.9250WARNING:tensorflow:Can save best model only with val_acc available, skipping.\n",
            "WARNING:tensorflow:Early stopping conditioned on metric `val_acc` which is not available. Available metrics are: loss,accuracy,val_loss,val_accuracy\n",
            "68/68 [==============================] - 1s 15ms/step - loss: 0.2682 - accuracy: 0.9241 - val_loss: 2.4016 - val_accuracy: 0.3917\n",
            "Epoch 74/100\n",
            "66/68 [============================>.] - ETA: 0s - loss: 0.2428 - accuracy: 0.9403WARNING:tensorflow:Can save best model only with val_acc available, skipping.\n",
            "WARNING:tensorflow:Early stopping conditioned on metric `val_acc` which is not available. Available metrics are: loss,accuracy,val_loss,val_accuracy\n",
            "68/68 [==============================] - 1s 14ms/step - loss: 0.2457 - accuracy: 0.9380 - val_loss: 2.4466 - val_accuracy: 0.3917\n",
            "Epoch 75/100\n",
            "65/68 [===========================>..] - ETA: 0s - loss: 0.2567 - accuracy: 0.9240WARNING:tensorflow:Can save best model only with val_acc available, skipping.\n",
            "WARNING:tensorflow:Early stopping conditioned on metric `val_acc` which is not available. Available metrics are: loss,accuracy,val_loss,val_accuracy\n",
            "68/68 [==============================] - 1s 15ms/step - loss: 0.2560 - accuracy: 0.9241 - val_loss: 2.4159 - val_accuracy: 0.3917\n",
            "Epoch 76/100\n",
            "66/68 [============================>.] - ETA: 0s - loss: 0.2458 - accuracy: 0.9290WARNING:tensorflow:Can save best model only with val_acc available, skipping.\n",
            "WARNING:tensorflow:Early stopping conditioned on metric `val_acc` which is not available. Available metrics are: loss,accuracy,val_loss,val_accuracy\n",
            "68/68 [==============================] - 1s 15ms/step - loss: 0.2444 - accuracy: 0.9296 - val_loss: 2.4306 - val_accuracy: 0.3833\n",
            "Epoch 77/100\n",
            "65/68 [===========================>..] - ETA: 0s - loss: 0.2187 - accuracy: 0.9423WARNING:tensorflow:Can save best model only with val_acc available, skipping.\n",
            "WARNING:tensorflow:Early stopping conditioned on metric `val_acc` which is not available. Available metrics are: loss,accuracy,val_loss,val_accuracy\n",
            "68/68 [==============================] - 1s 15ms/step - loss: 0.2155 - accuracy: 0.9435 - val_loss: 2.6594 - val_accuracy: 0.3778\n",
            "Epoch 78/100\n",
            "66/68 [============================>.] - ETA: 0s - loss: 0.2225 - accuracy: 0.9422WARNING:tensorflow:Can save best model only with val_acc available, skipping.\n",
            "WARNING:tensorflow:Early stopping conditioned on metric `val_acc` which is not available. Available metrics are: loss,accuracy,val_loss,val_accuracy\n",
            "68/68 [==============================] - 1s 14ms/step - loss: 0.2197 - accuracy: 0.9435 - val_loss: 2.5647 - val_accuracy: 0.4000\n",
            "Epoch 79/100\n",
            "65/68 [===========================>..] - ETA: 0s - loss: 0.2004 - accuracy: 0.9500WARNING:tensorflow:Can save best model only with val_acc available, skipping.\n",
            "WARNING:tensorflow:Early stopping conditioned on metric `val_acc` which is not available. Available metrics are: loss,accuracy,val_loss,val_accuracy\n",
            "68/68 [==============================] - 1s 15ms/step - loss: 0.1997 - accuracy: 0.9500 - val_loss: 2.6370 - val_accuracy: 0.3722\n",
            "Epoch 80/100\n",
            "65/68 [===========================>..] - ETA: 0s - loss: 0.1842 - accuracy: 0.9519WARNING:tensorflow:Can save best model only with val_acc available, skipping.\n",
            "WARNING:tensorflow:Early stopping conditioned on metric `val_acc` which is not available. Available metrics are: loss,accuracy,val_loss,val_accuracy\n",
            "68/68 [==============================] - 1s 14ms/step - loss: 0.1852 - accuracy: 0.9509 - val_loss: 2.5866 - val_accuracy: 0.4000\n",
            "Epoch 81/100\n",
            "65/68 [===========================>..] - ETA: 0s - loss: 0.1803 - accuracy: 0.9558WARNING:tensorflow:Can save best model only with val_acc available, skipping.\n",
            "WARNING:tensorflow:Early stopping conditioned on metric `val_acc` which is not available. Available metrics are: loss,accuracy,val_loss,val_accuracy\n",
            "68/68 [==============================] - 1s 15ms/step - loss: 0.1782 - accuracy: 0.9565 - val_loss: 2.5806 - val_accuracy: 0.4000\n",
            "Epoch 82/100\n",
            "67/68 [============================>.] - ETA: 0s - loss: 0.1503 - accuracy: 0.9757WARNING:tensorflow:Can save best model only with val_acc available, skipping.\n",
            "WARNING:tensorflow:Early stopping conditioned on metric `val_acc` which is not available. Available metrics are: loss,accuracy,val_loss,val_accuracy\n",
            "68/68 [==============================] - 1s 14ms/step - loss: 0.1499 - accuracy: 0.9759 - val_loss: 2.6899 - val_accuracy: 0.3833\n",
            "Epoch 83/100\n",
            "67/68 [============================>.] - ETA: 0s - loss: 0.1566 - accuracy: 0.9683WARNING:tensorflow:Can save best model only with val_acc available, skipping.\n",
            "WARNING:tensorflow:Early stopping conditioned on metric `val_acc` which is not available. Available metrics are: loss,accuracy,val_loss,val_accuracy\n",
            "68/68 [==============================] - 1s 14ms/step - loss: 0.1564 - accuracy: 0.9685 - val_loss: 2.7070 - val_accuracy: 0.3778\n",
            "Epoch 84/100\n",
            "66/68 [============================>.] - ETA: 0s - loss: 0.1598 - accuracy: 0.9621WARNING:tensorflow:Can save best model only with val_acc available, skipping.\n",
            "WARNING:tensorflow:Early stopping conditioned on metric `val_acc` which is not available. Available metrics are: loss,accuracy,val_loss,val_accuracy\n",
            "68/68 [==============================] - 1s 14ms/step - loss: 0.1595 - accuracy: 0.9620 - val_loss: 2.6812 - val_accuracy: 0.3778\n",
            "Epoch 85/100\n",
            "66/68 [============================>.] - ETA: 0s - loss: 0.1770 - accuracy: 0.9517WARNING:tensorflow:Can save best model only with val_acc available, skipping.\n",
            "WARNING:tensorflow:Early stopping conditioned on metric `val_acc` which is not available. Available metrics are: loss,accuracy,val_loss,val_accuracy\n",
            "68/68 [==============================] - 1s 14ms/step - loss: 0.1749 - accuracy: 0.9528 - val_loss: 2.8325 - val_accuracy: 0.3972\n",
            "Epoch 86/100\n",
            "66/68 [============================>.] - ETA: 0s - loss: 0.1518 - accuracy: 0.9650WARNING:tensorflow:Can save best model only with val_acc available, skipping.\n",
            "WARNING:tensorflow:Early stopping conditioned on metric `val_acc` which is not available. Available metrics are: loss,accuracy,val_loss,val_accuracy\n",
            "68/68 [==============================] - 1s 14ms/step - loss: 0.1529 - accuracy: 0.9639 - val_loss: 2.7759 - val_accuracy: 0.4000\n",
            "Epoch 87/100\n",
            "65/68 [===========================>..] - ETA: 0s - loss: 0.1451 - accuracy: 0.9625WARNING:tensorflow:Can save best model only with val_acc available, skipping.\n",
            "WARNING:tensorflow:Early stopping conditioned on metric `val_acc` which is not available. Available metrics are: loss,accuracy,val_loss,val_accuracy\n",
            "68/68 [==============================] - 1s 15ms/step - loss: 0.1490 - accuracy: 0.9602 - val_loss: 2.9252 - val_accuracy: 0.3833\n",
            "Epoch 88/100\n",
            "65/68 [===========================>..] - ETA: 0s - loss: 0.1517 - accuracy: 0.9606WARNING:tensorflow:Can save best model only with val_acc available, skipping.\n",
            "WARNING:tensorflow:Early stopping conditioned on metric `val_acc` which is not available. Available metrics are: loss,accuracy,val_loss,val_accuracy\n",
            "68/68 [==============================] - 1s 15ms/step - loss: 0.1529 - accuracy: 0.9593 - val_loss: 2.8248 - val_accuracy: 0.3694\n",
            "Epoch 89/100\n",
            "66/68 [============================>.] - ETA: 0s - loss: 0.1467 - accuracy: 0.9697WARNING:tensorflow:Can save best model only with val_acc available, skipping.\n",
            "WARNING:tensorflow:Early stopping conditioned on metric `val_acc` which is not available. Available metrics are: loss,accuracy,val_loss,val_accuracy\n",
            "68/68 [==============================] - 1s 15ms/step - loss: 0.1473 - accuracy: 0.9694 - val_loss: 2.7326 - val_accuracy: 0.4194\n",
            "Epoch 90/100\n",
            "65/68 [===========================>..] - ETA: 0s - loss: 0.1384 - accuracy: 0.9712WARNING:tensorflow:Can save best model only with val_acc available, skipping.\n",
            "WARNING:tensorflow:Early stopping conditioned on metric `val_acc` which is not available. Available metrics are: loss,accuracy,val_loss,val_accuracy\n",
            "68/68 [==============================] - 1s 15ms/step - loss: 0.1389 - accuracy: 0.9713 - val_loss: 2.7906 - val_accuracy: 0.3806\n",
            "Epoch 91/100\n",
            "65/68 [===========================>..] - ETA: 0s - loss: 0.0959 - accuracy: 0.9894WARNING:tensorflow:Can save best model only with val_acc available, skipping.\n",
            "WARNING:tensorflow:Early stopping conditioned on metric `val_acc` which is not available. Available metrics are: loss,accuracy,val_loss,val_accuracy\n",
            "68/68 [==============================] - 1s 15ms/step - loss: 0.0951 - accuracy: 0.9898 - val_loss: 2.9169 - val_accuracy: 0.3889\n",
            "Epoch 92/100\n",
            "66/68 [============================>.] - ETA: 0s - loss: 0.1204 - accuracy: 0.9725WARNING:tensorflow:Can save best model only with val_acc available, skipping.\n",
            "WARNING:tensorflow:Early stopping conditioned on metric `val_acc` which is not available. Available metrics are: loss,accuracy,val_loss,val_accuracy\n",
            "68/68 [==============================] - 1s 15ms/step - loss: 0.1208 - accuracy: 0.9731 - val_loss: 2.9251 - val_accuracy: 0.3806\n",
            "Epoch 93/100\n",
            "65/68 [===========================>..] - ETA: 0s - loss: 0.1420 - accuracy: 0.9625WARNING:tensorflow:Can save best model only with val_acc available, skipping.\n",
            "WARNING:tensorflow:Early stopping conditioned on metric `val_acc` which is not available. Available metrics are: loss,accuracy,val_loss,val_accuracy\n",
            "68/68 [==============================] - 1s 15ms/step - loss: 0.1432 - accuracy: 0.9611 - val_loss: 2.8781 - val_accuracy: 0.4028\n",
            "Epoch 94/100\n",
            "67/68 [============================>.] - ETA: 0s - loss: 0.1142 - accuracy: 0.9804WARNING:tensorflow:Can save best model only with val_acc available, skipping.\n",
            "WARNING:tensorflow:Early stopping conditioned on metric `val_acc` which is not available. Available metrics are: loss,accuracy,val_loss,val_accuracy\n",
            "68/68 [==============================] - 1s 14ms/step - loss: 0.1145 - accuracy: 0.9796 - val_loss: 2.9763 - val_accuracy: 0.4028\n",
            "Epoch 95/100\n",
            "65/68 [===========================>..] - ETA: 0s - loss: 0.1141 - accuracy: 0.9798WARNING:tensorflow:Can save best model only with val_acc available, skipping.\n",
            "WARNING:tensorflow:Early stopping conditioned on metric `val_acc` which is not available. Available metrics are: loss,accuracy,val_loss,val_accuracy\n",
            "68/68 [==============================] - 1s 14ms/step - loss: 0.1149 - accuracy: 0.9796 - val_loss: 2.9778 - val_accuracy: 0.3944\n",
            "Epoch 96/100\n",
            "65/68 [===========================>..] - ETA: 0s - loss: 0.0980 - accuracy: 0.9846WARNING:tensorflow:Can save best model only with val_acc available, skipping.\n",
            "WARNING:tensorflow:Early stopping conditioned on metric `val_acc` which is not available. Available metrics are: loss,accuracy,val_loss,val_accuracy\n",
            "68/68 [==============================] - 1s 15ms/step - loss: 0.0995 - accuracy: 0.9843 - val_loss: 3.0417 - val_accuracy: 0.3917\n",
            "Epoch 97/100\n",
            "65/68 [===========================>..] - ETA: 0s - loss: 0.0930 - accuracy: 0.9788WARNING:tensorflow:Can save best model only with val_acc available, skipping.\n",
            "WARNING:tensorflow:Early stopping conditioned on metric `val_acc` which is not available. Available metrics are: loss,accuracy,val_loss,val_accuracy\n",
            "68/68 [==============================] - 1s 15ms/step - loss: 0.0928 - accuracy: 0.9796 - val_loss: 3.0085 - val_accuracy: 0.4028\n",
            "Epoch 98/100\n",
            "66/68 [============================>.] - ETA: 0s - loss: 0.0927 - accuracy: 0.9830WARNING:tensorflow:Can save best model only with val_acc available, skipping.\n",
            "WARNING:tensorflow:Early stopping conditioned on metric `val_acc` which is not available. Available metrics are: loss,accuracy,val_loss,val_accuracy\n",
            "68/68 [==============================] - 1s 15ms/step - loss: 0.0928 - accuracy: 0.9824 - val_loss: 3.0480 - val_accuracy: 0.3750\n",
            "Epoch 99/100\n",
            "66/68 [============================>.] - ETA: 0s - loss: 0.0765 - accuracy: 0.9905WARNING:tensorflow:Can save best model only with val_acc available, skipping.\n",
            "WARNING:tensorflow:Early stopping conditioned on metric `val_acc` which is not available. Available metrics are: loss,accuracy,val_loss,val_accuracy\n",
            "68/68 [==============================] - 1s 15ms/step - loss: 0.0759 - accuracy: 0.9907 - val_loss: 3.1291 - val_accuracy: 0.3861\n",
            "Epoch 100/100\n",
            "65/68 [===========================>..] - ETA: 0s - loss: 0.0787 - accuracy: 0.9856WARNING:tensorflow:Can save best model only with val_acc available, skipping.\n",
            "WARNING:tensorflow:Early stopping conditioned on metric `val_acc` which is not available. Available metrics are: loss,accuracy,val_loss,val_accuracy\n",
            "68/68 [==============================] - 1s 15ms/step - loss: 0.0784 - accuracy: 0.9861 - val_loss: 3.0860 - val_accuracy: 0.4083\n"
          ],
          "name": "stdout"
        }
      ]
    },
    {
      "cell_type": "code",
      "metadata": {
        "id": "8trvHUZO26Ot"
      },
      "source": [
        "# the confusion matrix heat map plot\n",
        "def print_confusion_matrix(confusion_matrix, class_names, file_name, title, figsize = (10,7), fontsize=14):\n",
        "    \n",
        "    df_cm = pd.DataFrame(confusion_matrix, index=class_names, columns=class_names)\n",
        "    fig = plt.figure(figsize=figsize)\n",
        "    try:\n",
        "        heatmap = sns.heatmap(df_cm, annot=True, fmt=\"d\")\n",
        "    except ValueError:\n",
        "        raise ValueError(\"Confusion matrix values must be integers.\")\n",
        "        \n",
        "    heatmap.yaxis.set_ticklabels(heatmap.yaxis.get_ticklabels(), rotation=0, ha='right', fontsize=fontsize)\n",
        "    heatmap.xaxis.set_ticklabels(heatmap.xaxis.get_ticklabels(), rotation=45, ha='right', fontsize=fontsize)\n",
        "    plt.ylabel('True label')\n",
        "    plt.xlabel('Predicted label')\n",
        "    plt.title = title\n",
        "    plt.savefig('Metrics-'+file_name+'-ConfustionMetrix')\n",
        "    return plt"
      ],
      "execution_count": null,
      "outputs": []
    },
    {
      "cell_type": "code",
      "metadata": {
        "colab": {
          "base_uri": "https://localhost:8080/",
          "height": 772
        },
        "id": "YYbFKBhJILJz",
        "outputId": "6182d74c-a46b-4647-8ca4-2236126dc873"
      },
      "source": [
        "# Test / Evaluation\n",
        "score = model.evaluate(X_test_cnn, y_test, verbose=0)\n",
        "print(\"%s: %.2f%%\" % (model.metrics_names[1], score[1]*100))\n",
        "\n",
        "preds = model.predict(X_test_cnn, batch_size=16, verbose=1)\n",
        "preds = preds.argmax(axis=1)\n",
        "\n",
        "# Predicted Labels \n",
        "preds = preds.astype(int).flatten()\n",
        "preds = (lb.inverse_transform((preds)))\n",
        "preds = pd.DataFrame({'predictedvalues': preds})\n",
        "\n",
        "# Actual Labels\n",
        "actual = y_test.argmax(axis=1)\n",
        "actual = actual.astype(int).flatten()\n",
        "actual = (lb.inverse_transform((actual)))\n",
        "actual = pd.DataFrame({'actualvalues': actual})\n",
        "\n",
        "# Lets combined both of them into a single dataframe\n",
        "finaldf = actual.join(preds)\n",
        "#print(accuracy_score(finaldf.actualvalues, finaldf.predictedvalues)*100)\n",
        "\n",
        "# Write out the predictions to disk\n",
        "#finaldf = finaldf.replace({1:'neutral', 2:'happy', 3:'sad', 4:'angry', 5:'fear', 6:'disgust', 7:'surprise'})\n",
        "finaldf = finaldf.replace({1:'neutral', 2:'calm', 3:'happy', 4:'sad', 5:'angry', 6:'fear', 7:'disgust', 8:'surprise'})\n",
        "\n",
        "finaldf.to_csv(SAVED_MODELS+'Predictions.csv', index=False)\n",
        "finaldf.groupby('predictedvalues').count()\n",
        "classes_names = finaldf.actualvalues.unique()\n",
        "classes_names.sort()\n",
        "\n",
        "# Classification report \n",
        "print(classification_report(finaldf.actualvalues, finaldf.predictedvalues, target_names=classes_names))\n",
        "report = classification_report(finaldf.actualvalues, finaldf.predictedvalues, target_names=classes_names, output_dict=True)\n",
        "#print(report)\n",
        "# To store to files\n",
        "classsReportDf = pd.DataFrame(report).transpose()\n",
        "classsReportDf.to_csv('Metrics-CNN-Max-Attention.csv') #(Saved to .csv file)\n",
        "\n",
        "# Confusion matrix \n",
        "c_matrix = confusion_matrix(finaldf.actualvalues, finaldf.predictedvalues)\n",
        "confustionPlt = print_confusion_matrix(c_matrix, class_names = classes_names, file_name='CNN', title='CNN Confusion Metrics')#This function implemented above\n",
        "confustionPlt.show() # Will also save to .png file"
      ],
      "execution_count": null,
      "outputs": [
        {
          "output_type": "stream",
          "text": [
            "accuracy: 40.83%\n",
            "23/23 [==============================] - 0s 3ms/step\n",
            "              precision    recall  f1-score   support\n",
            "\n",
            "       angry       0.43      0.42      0.43        52\n",
            "        calm       0.49      0.67      0.57        45\n",
            "     disgust       0.41      0.33      0.37        45\n",
            "        fear       0.48      0.55      0.51        40\n",
            "       happy       0.28      0.29      0.29        48\n",
            "     neutral       0.39      0.35      0.37        26\n",
            "         sad       0.33      0.27      0.29        49\n",
            "    surprise       0.42      0.40      0.41        55\n",
            "\n",
            "    accuracy                           0.41       360\n",
            "   macro avg       0.40      0.41      0.40       360\n",
            "weighted avg       0.40      0.41      0.40       360\n",
            "\n"
          ],
          "name": "stdout"
        },
        {
          "output_type": "display_data",
          "data": {
            "image/png": "[encoded data removed]",
            "text/plain": [
              "<Figure size 720x504 with 2 Axes>"
            ]
          },
          "metadata": {
            "tags": [],
            "needs_background": "light"
          }
        }
      ]
    },
    {
      "cell_type": "code",
      "metadata": {
        "colab": {
          "base_uri": "https://localhost:8080/",
          "height": 279
        },
        "id": "g1dmLpIK-LOc",
        "outputId": "a366f33d-cbe2-44ad-f85e-a6ee6d98b6c0"
      },
      "source": [
        "def plotAccLossCurves():\n",
        "  # Curve plot of Accuracy, Validation accuracy, loss, and Validation loss.\n",
        "  plt.plot(model_history.history[\"accuracy\"])\n",
        "  plt.plot(model_history.history['val_accuracy'])\n",
        "  plt.plot(model_history.history['loss'])\n",
        "  plt.plot(model_history.history['val_loss'])\n",
        " # plt.title(\"model accuracy\")\n",
        "  plt.ylabel(\"Accuracy\")\n",
        "  plt.xlabel(\"Epoch\")\n",
        "  plt.legend([\"Accuracy\",\"Validation Accuracy\",\"loss\",\"Validation Loss\"])\n",
        "  plt.savefig('Metrics-CNN-Graph')\n",
        "  return plt\n",
        "\n",
        "plt = plotAccLossCurves() # saved to .png file below"
      ],
      "execution_count": null,
      "outputs": [
        {
          "output_type": "display_data",
          "data": {
            "image/png": "[encoded data removed]",
            "text/plain": [
              "<Figure size 432x288 with 1 Axes>"
            ]
          },
          "metadata": {
            "tags": [],
            "needs_background": "light"
          }
        }
      ]
    },
    {
      "cell_type": "code",
      "metadata": {
        "colab": {
          "base_uri": "https://localhost:8080/"
        },
        "id": "IuFfqdSy0oJ0",
        "outputId": "a6e62600-5850-4f05-b8f1-55f200b85880"
      },
      "source": [
        "print(classification_report(finaldf.actualvalues, finaldf.predictedvalues, target_names=classes_names))"
      ],
      "execution_count": null,
      "outputs": [
        {
          "output_type": "stream",
          "text": [
            "              precision    recall  f1-score   support\n",
            "\n",
            "       angry       0.65      0.62      0.63        52\n",
            "        calm       0.43      0.67      0.52        45\n",
            "     disgust       0.51      0.64      0.57        45\n",
            "        fear       0.58      0.38      0.45        40\n",
            "       happy       0.35      0.42      0.38        48\n",
            "     neutral       0.20      0.08      0.11        26\n",
            "         sad       0.38      0.16      0.23        49\n",
            "    surprise       0.47      0.60      0.53        55\n",
            "\n",
            "    accuracy                           0.47       360\n",
            "   macro avg       0.45      0.44      0.43       360\n",
            "weighted avg       0.46      0.47      0.45       360\n",
            "\n"
          ],
          "name": "stdout"
        }
      ]
    },
    {
      "cell_type": "code",
      "metadata": {
        "colab": {
          "base_uri": "https://localhost:8080/",
          "height": 35
        },
        "id": "QqqsiQTPb-Bf",
        "outputId": "2ae9f142-298f-489e-f55b-98d66cc677f1"
      },
      "source": [
        "# To store to files (Doesn't work now)\n",
        "'''classsReportDf = pd.DataFrame(report).transpose()\n",
        "classsReportDf.to_csv('Metrics-CNN-LSTM-Attention.csv')\n",
        "\n",
        "confustionPlt.savefig('Metrics-CNN-LSTM-ConfustionMetrix-Attention')\n",
        "\n",
        "#plt.savefig('Metrics-CNN-LSTM-Graph-Attention') # It doesn't work'''"
      ],
      "execution_count": null,
      "outputs": [
        {
          "output_type": "display_data",
          "data": {
            "text/plain": [
              "<Figure size 432x288 with 0 Axes>"
            ]
          },
          "metadata": {
            "tags": []
          }
        }
      ]
    }
  ]
}